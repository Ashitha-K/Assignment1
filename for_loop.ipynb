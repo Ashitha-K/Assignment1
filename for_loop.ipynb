{
  "nbformat": 4,
  "nbformat_minor": 0,
  "metadata": {
    "colab": {
      "provenance": [],
      "authorship_tag": "ABX9TyMS3uPpET7rq/4YXzPofM70",
      "include_colab_link": true
    },
    "kernelspec": {
      "name": "python3",
      "display_name": "Python 3"
    },
    "language_info": {
      "name": "python"
    }
  },
  "cells": [
    {
      "cell_type": "markdown",
      "metadata": {
        "id": "view-in-github",
        "colab_type": "text"
      },
      "source": [
        "<a href=\"https://colab.research.google.com/github/Ashitha-K/Assignment1/blob/main/for_loop.ipynb\" target=\"_parent\"><img src=\"https://colab.research.google.com/assets/colab-badge.svg\" alt=\"Open In Colab\"/></a>"
      ]
    },
    {
      "cell_type": "code",
      "execution_count": null,
      "metadata": {
        "colab": {
          "base_uri": "https://localhost:8080/"
        },
        "id": "WzjXLPTTvxpo",
        "outputId": "bda02af5-bf31-4075-a0e1-622d31195039"
      },
      "outputs": [
        {
          "output_type": "stream",
          "name": "stdout",
          "text": [
            "appple\n",
            "orange\n",
            "mango\n",
            "cherry\n",
            "grape\n"
          ]
        }
      ],
      "source": [
        "fruits=[\"appple\",\"orange\",\"mango\",\"cherry\",\"grape\"]\n",
        "for i in fruits:\n",
        "  print(i)"
      ]
    },
    {
      "cell_type": "code",
      "source": [
        "for i in range(10):\n",
        "  print(i)"
      ],
      "metadata": {
        "colab": {
          "base_uri": "https://localhost:8080/"
        },
        "id": "XaoMZzrfwWEN",
        "outputId": "c2ebe5bb-6886-401f-ce44-b8188f102603"
      },
      "execution_count": null,
      "outputs": [
        {
          "output_type": "stream",
          "name": "stdout",
          "text": [
            "0\n",
            "1\n",
            "2\n",
            "3\n",
            "4\n",
            "5\n",
            "6\n",
            "7\n",
            "8\n",
            "9\n"
          ]
        }
      ]
    },
    {
      "cell_type": "code",
      "source": [
        "mystr=\"welcome to TVM\"\n",
        "strlen=len(mystr)\n",
        "#print(strlen)\n",
        "for i in range(strlen):\n",
        "  print(mystr[i])\n",
        "\n"
      ],
      "metadata": {
        "colab": {
          "base_uri": "https://localhost:8080/"
        },
        "id": "OlzgbdkPwfQN",
        "outputId": "3178389d-2c2f-4ede-ae93-a513e16eab7e"
      },
      "execution_count": null,
      "outputs": [
        {
          "output_type": "stream",
          "name": "stdout",
          "text": [
            "14\n",
            "w\n",
            "e\n",
            "l\n",
            "c\n",
            "o\n",
            "m\n",
            "e\n",
            " \n",
            "t\n",
            "o\n",
            " \n",
            "T\n",
            "V\n",
            "M\n"
          ]
        }
      ]
    },
    {
      "cell_type": "code",
      "source": [
        "#dictionary\n",
        "mydict={\n",
        "\n",
        "    \"name\":\"ashi\",\n",
        "    \"age\":30,\n",
        "   \"color\":\"blue\",\n",
        "    \"food\":\"burger\"\n",
        "\n",
        "}\n",
        "for i in mydict:\n",
        "  print(mydict[i])"
      ],
      "metadata": {
        "colab": {
          "base_uri": "https://localhost:8080/"
        },
        "id": "TMUVjzAQ0-2O",
        "outputId": "4aa08778-56f7-49f1-8295-74ecb41206e1"
      },
      "execution_count": null,
      "outputs": [
        {
          "output_type": "stream",
          "name": "stdout",
          "text": [
            "ashi\n",
            "30\n",
            "blue\n",
            "burger\n"
          ]
        }
      ]
    },
    {
      "cell_type": "code",
      "source": [
        "for i in mydict.values():\n",
        "  print(i)"
      ],
      "metadata": {
        "colab": {
          "base_uri": "https://localhost:8080/"
        },
        "id": "wa_e293J15_u",
        "outputId": "6b67dff8-a731-461c-ce98-11024751d382"
      },
      "execution_count": null,
      "outputs": [
        {
          "output_type": "stream",
          "name": "stdout",
          "text": [
            "ashi\n",
            "30\n",
            "blue\n",
            "burger\n"
          ]
        }
      ]
    },
    {
      "cell_type": "code",
      "source": [
        "for i in mydict.keys():\n",
        "  print(i)"
      ],
      "metadata": {
        "colab": {
          "base_uri": "https://localhost:8080/"
        },
        "id": "-5Nq0gZS2Od2",
        "outputId": "1aa4c890-b9f0-47eb-d8f4-fbb498fb02c5"
      },
      "execution_count": null,
      "outputs": [
        {
          "output_type": "stream",
          "name": "stdout",
          "text": [
            "name\n",
            "age\n",
            "color\n",
            "food\n"
          ]
        }
      ]
    },
    {
      "cell_type": "code",
      "source": [
        "for x,y in mydict.items():\n",
        "  print(f\"the value for key {x} is {y}\")"
      ],
      "metadata": {
        "colab": {
          "base_uri": "https://localhost:8080/"
        },
        "id": "iyIi-vSd2j-Q",
        "outputId": "f90a188e-693b-4e53-8276-181e1df9abf0"
      },
      "execution_count": null,
      "outputs": [
        {
          "output_type": "stream",
          "name": "stdout",
          "text": [
            "the value for key name is ashi\n",
            "the value for key age is 30\n",
            "the value for key color is blue\n",
            "the value for key food is burger\n"
          ]
        }
      ]
    },
    {
      "cell_type": "code",
      "source": [
        "mystr=\"welcome to TVM\"\n",
        "strlen=len(mystr)\n",
        "#print(strlen)\n",
        "for i in range(2,strlen,2):\n",
        "  print(mystr[i])\n",
        "\n"
      ],
      "metadata": {
        "colab": {
          "base_uri": "https://localhost:8080/"
        },
        "id": "6oScqLdbzeAW",
        "outputId": "ca2d22e8-646a-4972-f376-de656ca5371f"
      },
      "execution_count": null,
      "outputs": [
        {
          "output_type": "stream",
          "name": "stdout",
          "text": [
            "l\n",
            "o\n",
            "e\n",
            "t\n",
            " \n",
            "V\n"
          ]
        }
      ]
    }
  ]
}